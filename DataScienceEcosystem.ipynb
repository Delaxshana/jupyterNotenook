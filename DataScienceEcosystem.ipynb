{
 "cells": [
  {
   "cell_type": "markdown",
   "id": "b07ec7f4-7719-40f2-af39-5f937ddeaeed",
   "metadata": {},
   "source": [
    "# Data Science Tools and Ecosystem"
   ]
  },
  {
   "cell_type": "markdown",
   "id": "08b831e0-5683-4c4b-8b29-17eac94eda84",
   "metadata": {},
   "source": [
    "## In this notebook, Data Science Tools and Ecosystem are summarized."
   ]
  },
  {
   "cell_type": "markdown",
   "id": "c276c833-6386-4b23-b74e-7022fdc99189",
   "metadata": {},
   "source": [
    "Some of the popular languages that Data Scientists use are:\n",
    "1. JAVA\n",
    "2. Scala\n",
    "3. Python\n"
   ]
  },
  {
   "cell_type": "markdown",
   "id": "17d99922-c641-44f5-8097-7b0fdb8dc3fe",
   "metadata": {},
   "source": [
    "\n",
    "Some of the commonly used libraries used by Data Scientists include:\n",
    "1. Pandas\n",
    "2. Matlibplot\n",
    "3. Seaborn"
   ]
  },
  {
   "cell_type": "markdown",
   "id": "ae26ef10-ffe0-4334-b948-8d2e80545ea3",
   "metadata": {},
   "source": [
    "| Data Science Tools | \n",
    "| -------------| \n",
    "| Tableu | \n",
    "| Matlab | \n",
    "| Apache spark |"
   ]
  },
  {
   "cell_type": "markdown",
   "id": "9e408141-ffb3-438d-9b5e-2c64b512e106",
   "metadata": {},
   "source": [
    "### Below are a few examples of evaluating arithmetic expressions in Python"
   ]
  },
  {
   "cell_type": "code",
   "execution_count": 3,
   "id": "7ec208bd-48e5-4ff1-a57c-51b116151d50",
   "metadata": {},
   "outputs": [
    {
     "data": {
      "text/plain": [
       "17"
      ]
     },
     "execution_count": 3,
     "metadata": {},
     "output_type": "execute_result"
    }
   ],
   "source": [
    "(3*4)+5\n",
    "# This a simple arithmetic expression to mutiply then add integers"
   ]
  },
  {
   "cell_type": "code",
   "execution_count": 4,
   "id": "24c86078-6624-4e0e-a18a-f25fef0afe2e",
   "metadata": {},
   "outputs": [
    {
     "data": {
      "text/plain": [
       "3.3333333333333335"
      ]
     },
     "execution_count": 4,
     "metadata": {},
     "output_type": "execute_result"
    }
   ],
   "source": [
    "200/60\n",
    "# This will convert 200 minutes to hours by diving by 60"
   ]
  },
  {
   "cell_type": "markdown",
   "id": "37b5bb54-b529-4194-a37f-cd2d2ac05300",
   "metadata": {},
   "source": [
    "Objectives:\n",
    "List popular languages for Data Science\n",
    "\n",
    "* Java\n",
    "* Python\n",
    "* R\n",
    "* Scala\n"
   ]
  },
  {
   "cell_type": "markdown",
   "id": "50ad910c-2030-4e3f-97e8-b73073eb3976",
   "metadata": {},
   "source": [
    "## Author\n",
    "Delaxshana"
   ]
  },
  {
   "cell_type": "code",
   "execution_count": null,
   "id": "4c1b8805-d75c-47ea-8f46-24a950254160",
   "metadata": {},
   "outputs": [],
   "source": []
  }
 ],
 "metadata": {
  "kernelspec": {
   "display_name": "Python",
   "language": "python",
   "name": "conda-env-python-py"
  },
  "language_info": {
   "codemirror_mode": {
    "name": "ipython",
    "version": 3
   },
   "file_extension": ".py",
   "mimetype": "text/x-python",
   "name": "python",
   "nbconvert_exporter": "python",
   "pygments_lexer": "ipython3",
   "version": "3.7.12"
  }
 },
 "nbformat": 4,
 "nbformat_minor": 5
}
